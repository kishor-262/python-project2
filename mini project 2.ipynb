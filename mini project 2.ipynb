{
 "cells": [
  {
   "cell_type": "markdown",
   "metadata": {},
   "source": [
    "2)Number guesser:"
   ]
  },
  {
   "cell_type": "code",
   "execution_count": 1,
   "metadata": {},
   "outputs": [
    {
     "name": "stdout",
     "output_type": "stream",
     "text": [
      "You were above the number!\n",
      "You were above the number!\n",
      "You were above the number!\n",
      "You were above the number!\n",
      "You were above the number!\n",
      "You were above the number!\n",
      "You were above the number!\n",
      "You were above the number!\n",
      "You were above the number!\n",
      "You were above the number!\n",
      "You were above the number!\n",
      "You got it!\n",
      "You got it in 13 guesses\n"
     ]
    }
   ],
   "source": [
    "import random\n",
    "\n",
    "top_of_range = input(\"Type a number: \")\n",
    "\n",
    "if top_of_range.isdigit():\n",
    "    top_of_range = int(top_of_range)\n",
    "\n",
    "    if top_of_range <= 0:\n",
    "        print('Please type a number larger than o next time.')\n",
    "        quit()\n",
    "else:\n",
    "    print('Please type a number next time')\n",
    "    quit()\n",
    "\n",
    "random_number = random.randint(0, top_of_range)\n",
    "guesses = 1\n",
    "\n",
    "while True:\n",
    "    guesses += 1\n",
    "    user_gueses = input(\"Make a gueses: \")\n",
    "    if user_gueses.isdigit():\n",
    "        user_gueses = int(user_gueses)\n",
    "    else:\n",
    "        print('Please type a number next time')\n",
    "        continue\n",
    "\n",
    "    if user_gueses == random_number:\n",
    "        print(\"You got it!\")\n",
    "        break\n",
    "    elif user_gueses > random_number:\n",
    "        print(\"You were above the number!\")\n",
    "    else:\n",
    "        print(\"You were below the number!\")\n",
    "\n",
    "print(\"You got it in\", guesses, \"guesses\")"
   ]
  }
 ],
 "metadata": {
  "kernelspec": {
   "display_name": "base",
   "language": "python",
   "name": "python3"
  },
  "language_info": {
   "codemirror_mode": {
    "name": "ipython",
    "version": 3
   },
   "file_extension": ".py",
   "mimetype": "text/x-python",
   "name": "python",
   "nbconvert_exporter": "python",
   "pygments_lexer": "ipython3",
   "version": "3.11.4"
  },
  "orig_nbformat": 4
 },
 "nbformat": 4,
 "nbformat_minor": 2
}
